{
 "cells": [
  {
   "cell_type": "code",
   "execution_count": 1,
   "metadata": {},
   "outputs": [],
   "source": [
    "##Import Necessary Libraries\n",
    "import numpy as np\n",
    "import pandas as pd\n",
    "from sklearn import datasets\n",
    "from sklearn.metrics import confusion_matrix\n",
    "from sklearn.model_selection import train_test_split\n",
    "from sklearn.tree import DecisionTreeClassifier\n",
    "from sklearn.metrics import accuracy_score\n",
    "from sklearn.metrics import classification_report"
   ]
  },
  {
   "cell_type": "code",
   "execution_count": 2,
   "metadata": {},
   "outputs": [],
   "source": [
    "iris = datasets.load_iris()\n",
    "dt = pd.DataFrame(iris.data,columns=iris.feature_names)"
   ]
  },
  {
   "cell_type": "code",
   "execution_count": 3,
   "metadata": {},
   "outputs": [
    {
     "name": "stdout",
     "output_type": "stream",
     "text": [
      "     sepal length (cm)  sepal width (cm)  petal length (cm)  petal width (cm)\n",
      "0                  5.1               3.5                1.4               0.2\n",
      "1                  4.9               3.0                1.4               0.2\n",
      "2                  4.7               3.2                1.3               0.2\n",
      "3                  4.6               3.1                1.5               0.2\n",
      "4                  5.0               3.6                1.4               0.2\n",
      "..                 ...               ...                ...               ...\n",
      "145                6.7               3.0                5.2               2.3\n",
      "146                6.3               2.5                5.0               1.9\n",
      "147                6.5               3.0                5.2               2.0\n",
      "148                6.2               3.4                5.4               2.3\n",
      "149                5.9               3.0                5.1               1.8\n",
      "\n",
      "[150 rows x 4 columns]\n"
     ]
    }
   ],
   "source": [
    "print(dt)"
   ]
  },
  {
   "cell_type": "code",
   "execution_count": 4,
   "metadata": {},
   "outputs": [],
   "source": [
    "#Import data set\n",
    "def importdata():\n",
    "    iris = datasets.load_iris()\n",
    "    dt = pd.DataFrame(iris.data,iris.target,columns=iris.feature_names)\n",
    "    dt.reset_index(inplace=True)\n",
    "    ##Printing the dataset shape\n",
    "    print(\"Datset Length\",len(dt))\n",
    "    print(\"Dataset shape\",dt.shape)\n",
    "    print(\"Dataset:\",dt.head())\n",
    "    return dt"
   ]
  },
  {
   "cell_type": "code",
   "execution_count": 5,
   "metadata": {},
   "outputs": [],
   "source": [
    "##function to split the dataset\n",
    "def splitdataset(dt):\n",
    "    x=dt.values[:,1:4]\n",
    "    y=dt.values[:,0]\n",
    "    x_train,x_test,y_train,y_test=train_test_split(x,y,test_size=0.3,random_state=100)\n",
    "    return x,y,x_train,x_test,y_train,y_test\n"
   ]
  },
  {
   "cell_type": "code",
   "execution_count": 6,
   "metadata": {},
   "outputs": [],
   "source": [
    "##function to perform training with giniIndex\n",
    "def train_using_gini(x_train,x_test,y_train):\n",
    "    #creating the classifier object\n",
    "    clf_gini=DecisionTreeClassifier(criterion=\"gini\",random_state=100,max_depth=3,min_samples_leaf=5)\n",
    "    #performing training\n",
    "    clf_gini.fit(x_train,y_train)\n",
    "    return clf_gini"
   ]
  },
  {
   "cell_type": "code",
   "execution_count": 7,
   "metadata": {},
   "outputs": [],
   "source": [
    "##Function to perform training with entropy\n",
    "def train_using_entropy(x_train,x_test,y_train):\n",
    "    ##decision tree with entropy\n",
    "    clf_entropy=DecisionTreeClassifier(criterion='entropy',random_state=100,max_depth=3,min_samples_leaf=5)\n",
    "    \n",
    "    ##performing training\n",
    "    clf_entropy.fit(x_train,y_train)\n",
    "    return clf_entropy"
   ]
  },
  {
   "cell_type": "code",
   "execution_count": 8,
   "metadata": {},
   "outputs": [],
   "source": [
    "##function to make predictions\n",
    "def prediction(x_test,clf_object):\n",
    "    ##Prediction on test with giniindex\n",
    "    y_pred=clf_object.predict(x_test)\n",
    "    print(\"Predicted values:\")\n",
    "    print(y_pred)\n",
    "    return y_pred"
   ]
  },
  {
   "cell_type": "code",
   "execution_count": 9,
   "metadata": {},
   "outputs": [],
   "source": [
    "##Function to calculate accuracy\n",
    "def cal_accuracy(y_test,y_pred):\n",
    "    print(\"Confusion Matrix:\",confusion_matrix(y_test,y_pred))\n",
    "    print(\"Accuracy:\",accuracy_score(y_test,y_pred)*100)\n",
    "    print(\"Report:\",classification_report(y_test,y_pred))"
   ]
  },
  {
   "cell_type": "code",
   "execution_count": 10,
   "metadata": {},
   "outputs": [
    {
     "name": "stdout",
     "output_type": "stream",
     "text": [
      "Datset Length 150\n",
      "Dataset shape (150, 5)\n",
      "Dataset:    index  sepal length (cm)  sepal width (cm)  petal length (cm)  \\\n",
      "0      0                5.1               3.5                1.4   \n",
      "1      0                4.9               3.0                1.4   \n",
      "2      0                4.7               3.2                1.3   \n",
      "3      0                4.6               3.1                1.5   \n",
      "4      0                5.0               3.6                1.4   \n",
      "\n",
      "   petal width (cm)  \n",
      "0               0.2  \n",
      "1               0.2  \n",
      "2               0.2  \n",
      "3               0.2  \n",
      "4               0.2  \n",
      "\n",
      "\n",
      "Results using Gini Index:\n",
      "Predicted values:\n",
      "[2. 0. 2. 0. 1. 2. 0. 0. 2. 0. 0. 2. 0. 0. 2. 1. 1. 2. 2. 2. 2. 0. 2. 0.\n",
      " 1. 2. 1. 0. 1. 2. 1. 1. 2. 0. 0. 1. 0. 1. 2. 2. 0. 1. 2. 2. 0.]\n",
      "Confusion Matrix: [[16  0  0]\n",
      " [ 0 10  1]\n",
      " [ 0  1 17]]\n",
      "Accuracy: 95.55555555555556\n",
      "Report:               precision    recall  f1-score   support\n",
      "\n",
      "         0.0       1.00      1.00      1.00        16\n",
      "         1.0       0.91      0.91      0.91        11\n",
      "         2.0       0.94      0.94      0.94        18\n",
      "\n",
      "    accuracy                           0.96        45\n",
      "   macro avg       0.95      0.95      0.95        45\n",
      "weighted avg       0.96      0.96      0.96        45\n",
      "\n",
      "\n",
      "\n",
      "Results using Entropy:\n",
      "Predicted values:\n",
      "[2. 0. 2. 0. 2. 2. 0. 0. 2. 0. 0. 2. 0. 0. 2. 1. 1. 2. 2. 2. 2. 0. 2. 0.\n",
      " 1. 2. 1. 0. 1. 2. 1. 1. 2. 0. 0. 1. 0. 1. 2. 2. 0. 1. 2. 2. 0.]\n",
      "Confusion Matrix: [[16  0  0]\n",
      " [ 0 10  1]\n",
      " [ 0  0 18]]\n",
      "Accuracy: 97.77777777777777\n",
      "Report:               precision    recall  f1-score   support\n",
      "\n",
      "         0.0       1.00      1.00      1.00        16\n",
      "         1.0       1.00      0.91      0.95        11\n",
      "         2.0       0.95      1.00      0.97        18\n",
      "\n",
      "    accuracy                           0.98        45\n",
      "   macro avg       0.98      0.97      0.98        45\n",
      "weighted avg       0.98      0.98      0.98        45\n",
      "\n"
     ]
    }
   ],
   "source": [
    "##Driver code\n",
    "def main():\n",
    "    #Building phase\n",
    "    data=importdata()\n",
    "    x,y,x_train,x_test,y_train,y_test=splitdataset(data)\n",
    "    clf_gini=train_using_gini(x_train,x_test,y_train)\n",
    "    clf_entropy=train_using_entropy(x_train,x_test,y_train)\n",
    "    #operational phase\n",
    "    print('\\n')\n",
    "    print(\"Results using Gini Index:\")\n",
    "    \n",
    "    \n",
    "    #Prediction using gini\n",
    "    y_pred_gini=prediction(x_test,clf_gini)\n",
    "    cal_accuracy(y_test,y_pred_gini)\n",
    "    print('\\n')\n",
    "    print(\"Results using Entropy:\")\n",
    "    \n",
    "    \n",
    "    #Prediction using entropy\n",
    "    y_pred_entropy=prediction(x_test,clf_entropy)\n",
    "    cal_accuracy(y_test,y_pred_entropy)\n",
    "\n",
    "#Calling main function\n",
    "if __name__==\"__main__\":\n",
    "    main();"
   ]
  },
  {
   "cell_type": "code",
   "execution_count": null,
   "metadata": {},
   "outputs": [],
   "source": []
  }
 ],
 "metadata": {
  "kernelspec": {
   "display_name": "Python 3",
   "language": "python",
   "name": "python3"
  },
  "language_info": {
   "codemirror_mode": {
    "name": "ipython",
    "version": 3
   },
   "file_extension": ".py",
   "mimetype": "text/x-python",
   "name": "python",
   "nbconvert_exporter": "python",
   "pygments_lexer": "ipython3",
   "version": "3.8.5"
  }
 },
 "nbformat": 4,
 "nbformat_minor": 4
}
